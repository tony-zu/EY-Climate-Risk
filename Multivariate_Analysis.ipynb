{
 "cells": [
  {
   "cell_type": "code",
   "execution_count": 1,
   "id": "ab6b6040",
   "metadata": {},
   "outputs": [],
   "source": [
    "import pandas as pd\n",
    "import numpy as np\n",
    "import matplotlib.pyplot as plt\n",
    "import warnings\n",
    "warnings.filterwarnings(\"ignore\")\n",
    "from scipy import stats\n",
    "import statsmodels.api as sm\n",
    "import seaborn as sns\n",
    "from sklearn.model_selection import train_test_split\n",
    "from statsmodels.tools.eval_measures import mse\n",
    "from sklearn.metrics import r2_score"
   ]
  },
  {
   "cell_type": "code",
   "execution_count": 2,
   "id": "4b337279",
   "metadata": {},
   "outputs": [],
   "source": [
    "class Data:\n",
    "    def __init__(self):\n",
    "        pass\n",
    "    \n",
    "    def consistent_tickers(self,ENV,array=[],ar=[]):\n",
    "        for i in range(int(ENV.fiscalyear.min().strftime('%Y')),int(ENV.fiscalyear.max().strftime('%Y'))+1):array.append(ENV.set_index('fiscalyear')[str(i)].ticker.unique().tolist())\n",
    "        for i in range(len(array)):array[i]=set(array[i])\n",
    "        for i in range(len(array)):ar=set.intersection(array[i])\n",
    "        return list(ar)\n",
    "    \n",
    "    def X(self,path='Environmental_Sector_Data.csv'):\n",
    "        ENV=pd.read_csv(path,parse_dates=['Fiscal Year (fiscalyear)','Period End Date (periodenddate)'])\n",
    "        #Only US\n",
    "        ENV=ENV[(ENV.filter(regex='incorporation_country')==\"United States\").values]\n",
    "        #Only Currently Operating Companies. \n",
    "        ENV=ENV[(ENV.filter(regex='status')).values==(ENV.filter(regex='status')).squeeze().unique()[:2]]\n",
    "        ENV.rename(columns={'Fiscal Year (fiscalyear)':'fiscalyear','Period End Date (periodenddate)':'periodenddate','Simple Industry (simpleindustry)':'simpleindustry','Ticker (ticker)':'ticker'},inplace=True)\n",
    "        cticks=self.consistent_tickers(ENV)\n",
    "        ENV=ENV[ENV.ticker.isin(cticks)]\n",
    "        return ENV\n",
    "    \n",
    "    def Y(self,path='CPIUS.csv'):\n",
    "        CPI=pd.read_csv(path,parse_dates=['DATE'])\n",
    "        CPI.DATE=CPI.DATE.dt.to_period('M')\n",
    "        CPI.set_index('DATE',inplace=True)\n",
    "        return CPI[str(int(self.X().fiscalyear.min().strftime('%Y'))):str(int(self.X().fiscalyear.max().strftime('%Y')))]\n",
    "    \n",
    "    def intensity_df(self):\n",
    "        return self.X().filter(regex='Intensity')\n",
    "    \n",
    "    def absolute_df(self):\n",
    "        return self.X().filter(regex='Absolute')\n",
    "    \n",
    "    def aggregated_df(self,flag='all',aggregation='sum'):\n",
    "        if flag=='all':\n",
    "            data=self.X()\n",
    "        elif flag =='intensity':\n",
    "            data=self.intensity_df()\n",
    "        elif flag=='absolute_df':\n",
    "            data=self.absolute_df()\n",
    "        \n",
    "        if aggregation=='sum':\n",
    "            return data.sort_values('periodenddate').groupby(['fiscalyear','simpleindustry']).sum().reset_index()\n",
    "        else:\n",
    "            return data.sort_values('periodenddate').groupby(['fiscalyear','simpleindustry']).mean().reset_index()\n",
    "    \n",
    "    def transformation_df(self,outlier_removal=False,z_score_threshold=3):\n",
    "        if outlier_removal:\n",
    "            data=self.aggregated_df()\n",
    "            data = data[(np.abs(stats.zscore(data.select_dtypes(exclude=['object','datetime64[ns]']))) < z_score_threshold).all(axis=1)]\n",
    "        else:\n",
    "            data=self.aggregated_df()\n",
    "            \n",
    "        og=data\n",
    "        agg=og.select_dtypes(exclude=['object','datetime64[ns]','string'])\n",
    "        single_diff=agg.diff().bfill().add_suffix('_diff')\n",
    "        double_diff=agg.diff().diff().bfill().add_suffix('_doublediff')\n",
    "        pct_change=agg.pct_change().bfill().add_suffix('_pct_change')\n",
    "        rawdiff=(agg.diff().bfill()*agg).add_suffix('_rawxdiff')\n",
    "        rawdiffdiff=(agg.diff().bfill()*agg).add_suffix('_rawxdoublediff')\n",
    "        aggregation_level1=pd.concat([og,single_diff,double_diff,pct_change,rawdiff,rawdiffdiff],axis=1)\n",
    "        aggregation_level2=aggregation_level1.select_dtypes(exclude=['object','datetime64[ns]','string']).apply(lambda x:x**2).add_suffix('_squared')\n",
    "        aggregation_level3=aggregation_level1.select_dtypes(exclude=['object','datetime64[ns]','string']).apply(lambda x:x**3).add_suffix('_cubed')\n",
    "        aggregated=pd.concat([aggregation_level1,aggregation_level2,aggregation_level3],axis=1)\n",
    "        return aggregated"
   ]
  },
  {
   "cell_type": "code",
   "execution_count": 3,
   "id": "8c069d0e",
   "metadata": {},
   "outputs": [],
   "source": [
    "d = Data()\n",
    "df = d.transformation_df()"
   ]
  },
  {
   "cell_type": "code",
   "execution_count": 4,
   "id": "460d3e47-c9b8-4fa5-8b8b-6777a99da930",
   "metadata": {},
   "outputs": [],
   "source": [
    "finance_list=['Consumer Finance','Equity Real Estate Investment Trusts (REITs)','Insurance','Mortgage Real Estate Investment Trusts (REITs)','Trading Companies and Distributors','Diversified Financial Services','Real Estate Management and Development','Thrifts and Mortgage Finance','Capital Markets','Banks']\n",
    "energy_list=['Gas Utilities','Energy Equipment and Services','Independent Power and Renewable Electricity Producers','Oil, Gas and Consumable Fuels']\n",
    "ITTelcoandHW_list=['Health Care Technology','Communications Equipment','Diversified Telecommunication Services','Electrical Equipment','Electronic Equipment, Instruments and Components','Software','Technology Hardware, Storage and Peripherals','Wireless Telecommunication Services','Semiconductors and Semiconductor Equipment','Technology Hardware, Storage and Peripherals']\n",
    "Infrastructureandtransporation_list=['Electric Utilities','Aerospace and Defense','Air Freight and Logistics','Airlines','Auto Components','Automobiles','Building Products','Construction Materials', 'Construction and Engineering','Road and Rail','Water Utilities']\n",
    "Consumerstaples_list=['Beverages','Tobacco','Diversified Consumer Services','Household Products','Media','Paper and Forest Products','Personal Products','Professional Services','Food and Staples Retailing']\n",
    "Health_list=['Health Care Equipment and Supplies','Health Care Providers and Services','Pharmaceuticals','Biotechnology']\n",
    "Industrial_list=['Metals and Mining','Machinery','Chemicals','Construction Materials', 'Construction and Engineering','Industrial Conglomerates']\n",
    "\n",
    "\n",
    "\n",
    "df_finance=df[df['simpleindustry'].isin(finance_list)].sort_values(['simpleindustry','fiscalyear'])\n",
    "df_finance.simpleindustry=\"Finance\"\n",
    "df_energy=df[df['simpleindustry'].isin(energy_list)].sort_values(['simpleindustry','fiscalyear'])\n",
    "df_energy.simpleindustry=\"Energy\"\n",
    "df_ITandHW=df[df['simpleindustry'].isin(ITTelcoandHW_list)].sort_values(['simpleindustry','fiscalyear'])\n",
    "df_ITandHW.simpleindustry=\"IT, Telecom & Hardware\"\n",
    "df_Infrastructure=df[df['simpleindustry'].isin(Infrastructureandtransporation_list)].sort_values(['simpleindustry','fiscalyear'])\n",
    "df_Infrastructure.simpleindustry=\"Infrastructure\"\n",
    "df_consumerstaples=df[df['simpleindustry'].isin(Consumerstaples_list)].sort_values(['simpleindustry','fiscalyear'])\n",
    "df_consumerstaples.simpleindustry=\"Consumer Staples\"\n",
    "df_health=df[df['simpleindustry'].isin(Health_list)].sort_values(['simpleindustry','fiscalyear'])\n",
    "df_health.simpleindustry=\"Health\"\n",
    "df_industrial=df[df['simpleindustry'].isin(Industrial_list)].sort_values(['simpleindustry','fiscalyear'])\n",
    "df_industrial.simpleindustry=\"Industrial\""
   ]
  },
  {
   "cell_type": "code",
   "execution_count": 5,
   "id": "0dac445b",
   "metadata": {},
   "outputs": [],
   "source": [
    "y = d.Y()\n",
    "y = y.resample('A').first()\n",
    "#normalized_y = np.tile(np.array((y-y.mean())/y.std()).reshape([len(y)]),len(df_finance))"
   ]
  },
  {
   "cell_type": "code",
   "execution_count": 6,
   "id": "69726260-cc19-464f-bf3c-6de566efe551",
   "metadata": {},
   "outputs": [],
   "source": [
    "y.to_clipboard()"
   ]
  },
  {
   "cell_type": "code",
   "execution_count": 7,
   "id": "a4000f91",
   "metadata": {
    "tags": []
   },
   "outputs": [],
   "source": [
    "def regression_results(df_finance,y): \n",
    "    df_finance.fiscalyear=df_finance.fiscalyear.dt.to_period('Y')\n",
    "    df_finance=df_finance.merge(y,left_on='fiscalyear',right_index=True)\n",
    "    df_finance.rename(columns={'CPIAUCSL':'y'},inplace=True)\n",
    "    rsquared = pd.DataFrame(columns=['industry','coef','p-value','R Sq'])\n",
    "    y_ = df_finance['y']\n",
    "    df_finance=df_finance.drop(columns='y')\n",
    "    for industry in df_finance.simpleindustry.unique():\n",
    "        data = df_finance[df_finance['simpleindustry'] == industry]\n",
    "        for c in data.columns[3:]:        \n",
    "            if np.isinf(data[c]).any():\n",
    "                continue\n",
    "            model = sm.OLS(y_,sm.add_constant(data[c])).fit()\n",
    "            rsquared.loc[c] = [industry,model.params[1],model.pvalues[1],model.rsquared]\n",
    "        break\n",
    "\n",
    "    rsquared = rsquared[(rsquared['p-value'] < 0.1) & (rsquared['coef'] > 0.1)].sort_values('R Sq',ascending=False)\n",
    "    return rsquared"
   ]
  },
  {
   "cell_type": "code",
   "execution_count": 8,
   "id": "a979f197-fa30-475c-a269-906ccbe69567",
   "metadata": {},
   "outputs": [],
   "source": [
    "uv_results=pd.concat([regression_results(df_finance,y),regression_results(df_energy,y),regression_results(df_ITandHW,y),regression_results(df_Infrastructure,y),regression_results(df_consumerstaples,y),regression_results(df_health,y),regression_results(df_industrial,y)],axis=0)"
   ]
  },
  {
   "cell_type": "code",
   "execution_count": 69,
   "id": "acf0792d-168b-4eb8-9a21-6078dede940d",
   "metadata": {},
   "outputs": [],
   "source": [
    "uv_results.groupby(uv_results.index).mean().sort_values('R Sq').to_clipboard()"
   ]
  },
  {
   "cell_type": "markdown",
   "id": "5847d6d6",
   "metadata": {
    "tags": []
   },
   "source": [
    "## Multi Regression "
   ]
  },
  {
   "cell_type": "code",
   "execution_count": 10,
   "id": "e171a579-9837-4987-ad2d-0afba6c12122",
   "metadata": {},
   "outputs": [],
   "source": [
    "def split(df):\n",
    "    X_train, X_test = train_test_split(df, test_size=0.4, random_state=42,shuffle=False)\n",
    "    return X_train.fillna(method='bfill'),X_test.fillna(method='bfill')"
   ]
  },
  {
   "cell_type": "code",
   "execution_count": 11,
   "id": "88bd6859-6ef0-40ec-a6dd-3915ea1835db",
   "metadata": {},
   "outputs": [],
   "source": [
    "def multi_regression(df_finance,y,industry='default',size=0.1,stationarity_check=False):\n",
    "    if stationarity_check:\n",
    "        y=y.pct_change().fillna(method='bfill')\n",
    "    \n",
    "    \n",
    "    \n",
    "    x1 = \"Absolute: Waste Nuclear (di_319551)\"\n",
    "    x2 = \"Impact Ratio: Natural Resources Direct Cost (di_319466)_diff_squared\"\n",
    "    x3 = \"Intensity: Waste Incineration Indirect (di_327788)_doublediff_squared\"\n",
    "    x4 = \"Impact Ratio: Air Pollutants Indirect Cost (di_319383)_doublediff_squared\"\n",
    "    x5 = \"Impact Ratio: GHG Direct & Indirect Cost (di_319442)_diff_squared\"\n",
    "    x6 = \"Impact Ratio: Water Direct & Indirect Cost (di_319569)_squared\"\n",
    "    x7 = \"Impact Ratio: Waste Direct Cost (di_319546)_diff\"\n",
    "    try:\n",
    "        df_finance.fiscalyear=df_finance.fiscalyear.dt.to_period('Y') \n",
    "    except:\n",
    "        pass\n",
    "    df_finance=df_finance.merge(y,left_on='fiscalyear',right_index=True)\n",
    "    df_finance.rename(columns={'CPIAUCSL':'y'},inplace=True)\n",
    "    df_finance=df_finance[[x2,x3,x4,x6,x7,'y']]   \n",
    "    for col in df_finance.columns:\n",
    "        df_finance[col] = (df_finance[col]-df_finance[col].mean())/df_finance[col].std()\n",
    "    X_train, X_test = train_test_split(df_finance, test_size=size, random_state=42,shuffle=False)\n",
    "    \n",
    "    \n",
    "    #print(df_finance)\n",
    "    \n",
    "    #df_finance[[x1,x2,x3,x4,x5,x6,x7,'y','fiscalyear']]\n",
    "    model1 = sm.OLS(X_train['y'],sm.add_constant(X_train[[x2,x3,x4,x6,x7]]),missing='drop').fit()\n",
    "    df=model1.params.to_frame(industry).T\n",
    "    df['In sample R-squared']=model1.rsquared\n",
    "    #print(model1.predict(sm.add_constant(X_test[[x2,x3,x4,x6,x7]])))\n",
    "\n",
    "    df['OOS R-squared']= r2_score(X_test['y'],model1.predict(sm.add_constant(X_test[[x2,x3,x4,x6,x7]])))\n",
    "    \n",
    "    \n",
    "    return df,df_finance,model1\n",
    "\n"
   ]
  },
  {
   "cell_type": "code",
   "execution_count": 12,
   "id": "e63061ae-823a-406c-91ff-7cbd97c0e044",
   "metadata": {},
   "outputs": [],
   "source": [
    "x=multi_regression(df,y,\"All Industries\")\n",
    "x[0].to_clipboard()"
   ]
  },
  {
   "cell_type": "code",
   "execution_count": 14,
   "id": "42321c7f-8485-4c71-bfe4-cb9d7b641bb4",
   "metadata": {},
   "outputs": [],
   "source": [
    "finance=multi_regression(df_finance,y,'Finance')[0]\n",
    "energy=multi_regression(df_energy,y,'Energy')[0]\n",
    "itandhw=multi_regression(df_ITandHW,y,'IT Telecomunications and Hardware')[0]\n",
    "infrastructure=multi_regression(df_Infrastructure,y,'Infrastructure')[0]\n",
    "consumerstaples=multi_regression(df_consumerstaples,y,'Consumer Staples')[0]\n",
    "health=multi_regression(df_health,y,'Health')[0]\n",
    "industrial=multi_regression(df_industrial,y,'Industrial')[0]"
   ]
  },
  {
   "cell_type": "code",
   "execution_count": 15,
   "id": "1874d9c9-97fc-4229-9e24-f71174092c02",
   "metadata": {},
   "outputs": [],
   "source": [
    "results=pd.concat([finance,energy,itandhw,infrastructure,consumerstaples,health,industrial],axis=0)\n",
    "results.to_clipboard()"
   ]
  },
  {
   "cell_type": "code",
   "execution_count": 61,
   "id": "330b2abf-cffb-4e2c-8076-54aa1377d5c5",
   "metadata": {},
   "outputs": [],
   "source": [
    "def backtesting(df_finance):\n",
    "        f=finance.iloc[:,:6]\n",
    "        findf=multi_regression(df_finance,y,'Finance')[1]\n",
    "        findf['const']=1\n",
    "        findf.drop(columns='y').reindex(columns=f.columns) \n",
    "        dump=f.to_numpy()*findf.drop(columns='y').reindex(columns=f.columns)\n",
    "        return dump.sum(axis=1)\n",
    "        "
   ]
  },
  {
   "cell_type": "code",
   "execution_count": 68,
   "id": "efd76c2b-1503-45a0-9743-f4b1a3f31982",
   "metadata": {},
   "outputs": [],
   "source": [
    "df_test=pd.concat([backtesting(df_finance),backtesting(df_energy),backtesting(df_ITandHW),backtesting(df_Infrastructure),backtesting(df_consumerstaples),backtesting(df_health),backtesting(df_industrial)],axis=0)\n",
    "df_test.to_clipboard()"
   ]
  }
 ],
 "metadata": {
  "kernelspec": {
   "display_name": "Python 3 (ipykernel)",
   "language": "python",
   "name": "python3"
  },
  "language_info": {
   "codemirror_mode": {
    "name": "ipython",
    "version": 3
   },
   "file_extension": ".py",
   "mimetype": "text/x-python",
   "name": "python",
   "nbconvert_exporter": "python",
   "pygments_lexer": "ipython3",
   "version": "3.9.7"
  }
 },
 "nbformat": 4,
 "nbformat_minor": 5
}
